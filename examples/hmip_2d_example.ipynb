{
 "cells": [
  {
   "cell_type": "code",
   "execution_count": 21,
   "metadata": {},
   "outputs": [],
   "source": [
    "import hmip\n",
    "import numpy as np\n",
    "import matplotlib.pyplot as plt"
   ]
  },
  {
   "cell_type": "markdown",
   "metadata": {},
   "source": [
    "### Remark:\n",
    "\n",
    "At anytime use the \n",
    "```python\n",
    "help()\n",
    "```\n",
    "function to know what the function is doing and what arguments to pass."
   ]
  },
  {
   "cell_type": "code",
   "execution_count": 22,
   "metadata": {},
   "outputs": [
    {
     "name": "stdout",
     "output_type": "stream",
     "text": [
      "Help on function make_symmetric in module hmip.utils:\n",
      "\n",
      "make_symmetric(matrix)\n",
      "    Check if the matrix is symmetric, if no it returns a new symmetric matrix\n",
      "    :param matrix: (np.array) size (n, n)\n",
      "    :return: (np.array) size (n, n) symmetric\n",
      "\n"
     ]
    }
   ],
   "source": [
    "help(hmip.utils.make_symmetric)"
   ]
  },
  {
   "cell_type": "markdown",
   "metadata": {},
   "source": [
    "## 1. Create the solver"
   ]
  },
  {
   "cell_type": "code",
   "execution_count": 23,
   "metadata": {},
   "outputs": [],
   "source": [
    "solver = hmip.HopfieldSolver()"
   ]
  },
  {
   "cell_type": "markdown",
   "metadata": {},
   "source": [
    "## 2. Create the problem "
   ]
  },
  {
   "cell_type": "code",
   "execution_count": 30,
   "metadata": {},
   "outputs": [],
   "source": [
    "H = np.array([\n",
    "    [1, 1], \n",
    "    [1, 10]\n",
    "])\n",
    "q = np.array([1, 6])\n",
    "\n",
    "binary_indicator = np.array([1, 0])\n",
    "\n",
    "ub = np.array([1, 1])\n",
    "lb = np.array([0, 0])\n",
    "\n",
    "A_eq = np.array([[3, 1], [0, 0]])\n",
    "b_eq = np.array([0.3, 0])\n",
    "A_ineq = np.array([[3, 1], [0, 0]])\n",
    "b_ineq = np.array([0.3, 0])\n",
    "\n",
    "penalty_eq = 1000\n",
    "penalty_ineq = 10\n",
    "\n",
    "\n",
    "def objective_function(x):\n",
    "    return 1 / 2 * np.dot(np.dot(x.T, H), x) + np.dot(q.T, x)\n",
    "\n",
    "\n",
    "def gradient(x):\n",
    "    return np.dot(x, H) + q"
   ]
  },
  {
   "cell_type": "markdown",
   "metadata": {},
   "source": [
    "### Use of hmip.utils:"
   ]
  },
  {
   "cell_type": "code",
   "execution_count": 31,
   "metadata": {},
   "outputs": [],
   "source": [
    "H = hmip.utils.make_symmetric(H)\n",
    "smoothness_coefficient = hmip.utils.smoothness_coefficient(H)"
   ]
  },
  {
   "cell_type": "markdown",
   "metadata": {},
   "source": [
    "### Implement the problem in the solver"
   ]
  },
  {
   "cell_type": "code",
   "execution_count": 32,
   "metadata": {},
   "outputs": [],
   "source": [
    "problem = solver.setup_optimization_problem(\n",
    "    objective_function, \n",
    "    gradient, \n",
    "    lb, \n",
    "    ub, \n",
    "    binary_indicator, \n",
    "    A_eq=A_eq,\n",
    "    b_eq=b_eq, \n",
    "    A_ineq=A_ineq, \n",
    "    b_ineq=b_ineq,\n",
    "    smoothness_coef=smoothness_coefficient, \n",
    "    penalty_eq=penalty_eq,\n",
    "    penalty_ineq=penalty_ineq\n",
    ")"
   ]
  },
  {
   "cell_type": "markdown",
   "metadata": {},
   "source": [
    "## 3. Solve the problem"
   ]
  },
  {
   "cell_type": "code",
   "execution_count": 33,
   "metadata": {},
   "outputs": [
    {
     "name": "stdout",
     "output_type": "stream",
     "text": [
      "Candidate solution found with 99 number of iterations.\n"
     ]
    }
   ],
   "source": [
    "x, x_h, f_val_hist, step_size, other_dict = solver.solve(problem)"
   ]
  },
  {
   "cell_type": "markdown",
   "metadata": {},
   "source": [
    "## 4. Plot"
   ]
  },
  {
   "cell_type": "code",
   "execution_count": 34,
   "metadata": {},
   "outputs": [],
   "source": [
    "def plot_2d(H, q, x, lb, ub, A_eq=None, b_eq=None, A_ineq=None, b_ineq=None):\n",
    "    \n",
    "    def objective_function_2d(x_1, x_2, H, q):\n",
    "        return 1 / 2 * (H[0, 0] * x_1 ** 2 + H[1, 1] * x_2 ** 2 + 2 * H[0, 1] * x_1 * x_2) + q[0] * x_1 + q[1] * x_2\n",
    "\n",
    "    x_1 = np.linspace(-0.1 + lb[0], ub[0] + 0.1, num=500).reshape((1, -1))    \n",
    "    x_2 = np.linspace(-0.1 + lb[1], ub[1] + 0.1, num=500).reshape((1, -1))\n",
    "    x_meshgrid_1, x_meshgrid_2 = np.meshgrid(x_1, x_2)\n",
    "    \n",
    "    objective = objective_function_2d(x_meshgrid_1, x_meshgrid_2, H, q)\n",
    "    \n",
    "    plt.figure(figsize=(10, 8))\n",
    "    plt.contourf(x_meshgrid_1, x_meshgrid_2, objective, 50, cmap='plasma')\n",
    "    plt.colorbar()\n",
    "    \n",
    "    if A_eq is not None and b_eq is not None:\n",
    "        t_eq = np.linspace(-0.1 + lb[0], ub[0] + 0.1, num=500)\n",
    "        \n",
    "    if A_ineq is not None and b_ineq is not None:\n",
    "        t_ineq = np.linspace(-0.1 + lb[0], ub[0] + 0.1, num=500)\n",
    "        \n",
    "    plt.plot(t_eq, ((b_eq[0] - t_eq * A_eq[0, 0]) / A_eq[0, 1]), 'white')\n",
    "    plt.plot(t_ineq, ((b_ineq[0] - t_ineq * A_ineq[0, 0]) / A_ineq[0, 1]), 'yellow')\n",
    "    plt.plot(x[0, :], x[1, :], 'black')\n",
    "    plt.plot(x[0, 0], x[1, 0], 'bo', markersize=6, color='white')\n",
    "    plt.plot(x[0, - 1], x[1, - 1],\n",
    "             'x', markersize=10, color='white')\n",
    "    plt.xlabel('x1')\n",
    "    plt.ylabel('x2')\n",
    "    plt.xlim((lb[0] - 0.1, ub[0] + 0.1))\n",
    "    plt.ylim((lb[1] - 0.1, ub[1] + 0.1))\n",
    "    plt.show()"
   ]
  },
  {
   "cell_type": "code",
   "execution_count": 35,
   "metadata": {},
   "outputs": [
    {
     "data": {
      "image/png": "[encoded data removed]",
      "text/plain": [
       "<Figure size 720x576 with 2 Axes>"
      ]
     },
     "metadata": {},
     "output_type": "display_data"
    }
   ],
   "source": [
    "plot_2d(H, q, x, lb, ub,A_eq=A_eq, b_eq=b_eq, A_ineq=A_ineq, b_ineq=b_ineq)"
   ]
  },
  {
   "cell_type": "markdown",
   "metadata": {},
   "source": [
    "### Another problem \n",
    "\n",
    "We just change te binary variable"
   ]
  },
  {
   "cell_type": "code",
   "execution_count": 40,
   "metadata": {},
   "outputs": [
    {
     "name": "stdout",
     "output_type": "stream",
     "text": [
      "Candidate solution found with 99 number of iterations.\n"
     ]
    }
   ],
   "source": [
    "binary_indicator = np.array([0, 1])\n",
    "\n",
    "problem = solver.setup_optimization_problem(\n",
    "    objective_function, \n",
    "    gradient, \n",
    "    lb, \n",
    "    ub, \n",
    "    binary_indicator, \n",
    "    A_eq=A_eq,\n",
    "    b_eq=b_eq, \n",
    "    A_ineq=A_ineq, \n",
    "    b_ineq=b_ineq,\n",
    "    smoothness_coef=smoothness_coefficient, \n",
    "    penalty_eq=penalty_eq,\n",
    "    penalty_ineq=penalty_ineq\n",
    ")\n",
    "\n",
    "x, x_h, f_val_hist, step_size, other_dict = solver.solve(problem)"
   ]
  },
  {
   "cell_type": "code",
   "execution_count": null,
   "metadata": {},
   "outputs": [],
   "source": [
    "plot_2d(H, q, x, lb, ub,A_eq=A_eq, b_eq=b_eq, A_ineq=A_ineq, b_ineq=b_ineq)"
   ]
  },
  {
   "cell_type": "code",
   "execution_count": null,
   "metadata": {},
   "outputs": [],
   "source": []
  }
 ],
 "metadata": {
  "kernelspec": {
   "display_name": "Python 3",
   "language": "python",
   "name": "python3"
  },
  "language_info": {
   "codemirror_mode": {
    "name": "ipython",
    "version": 3
   },
   "file_extension": ".py",
   "mimetype": "text/x-python",
   "name": "python",
   "nbconvert_exporter": "python",
   "pygments_lexer": "ipython3",
   "version": "3.6.3"
  }
 },
 "nbformat": 4,
 "nbformat_minor": 2
}
