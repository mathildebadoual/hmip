{
 "cells": [
  {
   "cell_type": "code",
   "execution_count": 18,
   "metadata": {},
   "outputs": [],
   "source": [
    "import hmip\n",
    "import numpy as np\n",
    "import matplotlib.pyplot as plt"
   ]
  },
  {
   "cell_type": "markdown",
   "metadata": {},
   "source": [
    "### Remark:\n",
    "\n",
    "At anytime use the \n",
    "```python\n",
    "help()\n",
    "```\n",
    "function to know what the function is doing and what arguments to pass."
   ]
  },
  {
   "cell_type": "code",
   "execution_count": 19,
   "metadata": {},
   "outputs": [
    {
     "name": "stdout",
     "output_type": "stream",
     "text": [
      "Help on function make_symmetric in module hmip.utils:\n",
      "\n",
      "make_symmetric(matrix)\n",
      "    Check if the matrix is symmetric, if no it returns a new symmetric matrix\n",
      "    :param matrix: (np.array) size (n, n)\n",
      "    :return: (np.array) size (n, n) symmetric\n",
      "\n"
     ]
    }
   ],
   "source": [
    "help(hmip.utils.make_symmetric)"
   ]
  },
  {
   "cell_type": "markdown",
   "metadata": {},
   "source": [
    "# MIQP without constraints"
   ]
  },
  {
   "cell_type": "markdown",
   "metadata": {},
   "source": [
    "## 1. Create the solver"
   ]
  },
  {
   "cell_type": "code",
   "execution_count": 20,
   "metadata": {},
   "outputs": [],
   "source": [
    "solver = hmip.HopfieldSolver()"
   ]
  },
  {
   "cell_type": "markdown",
   "metadata": {},
   "source": [
    "## 2. Create the problem "
   ]
  },
  {
   "cell_type": "markdown",
   "metadata": {},
   "source": [
    "$$\\begin{array}{c}\n",
    "\\min_{x} {x^T H x + q^T x} \\\\\\\n",
    "\\text{st  }\n",
    "x_i \\in \\{0, 1\\} \\text{ if } \\text{binary_vector}_i = 1 \\text{ otherwise } x_i \\in \\mathbb{R} \\\\\\\n",
    "lb \\leq x \\leq ub \\\\\\\n",
    "\\end{array}$$"
   ]
  },
  {
   "cell_type": "code",
   "execution_count": 21,
   "metadata": {},
   "outputs": [],
   "source": [
    "H = np.array([\n",
    "    [1, 1], \n",
    "    [1, 10]\n",
    "])\n",
    "q = np.array([1, 6])\n",
    "\n",
    "binary_indicator = np.array([1, 0])\n",
    "\n",
    "ub = np.array([1, 1])\n",
    "lb = np.array([0, 0])\n",
    "\n",
    "\n",
    "def objective_function(x):\n",
    "    return 1 / 2 * np.dot(np.dot(x.T, H), x) + np.dot(q.T, x)\n",
    "\n",
    "\n",
    "def gradient(x):\n",
    "    return np.dot(x, H) + q"
   ]
  },
  {
   "cell_type": "markdown",
   "metadata": {},
   "source": [
    "### Implement the problem in the solver"
   ]
  },
  {
   "cell_type": "code",
   "execution_count": 22,
   "metadata": {},
   "outputs": [
    {
     "name": "stdout",
     "output_type": "stream",
     "text": [
      "Set up optimization problem ....\n",
      "compute smoothness coef\n",
      ".... Optimization problem set up.\n"
     ]
    }
   ],
   "source": [
    "problem = solver.setup_optimization_problem(\n",
    "    objective_function, \n",
    "    gradient, \n",
    "    lb, \n",
    "    ub, \n",
    "    binary_indicator, \n",
    ")"
   ]
  },
  {
   "cell_type": "markdown",
   "metadata": {},
   "source": [
    "## 3. Solve the problem"
   ]
  },
  {
   "cell_type": "code",
   "execution_count": 23,
   "metadata": {},
   "outputs": [
    {
     "name": "stdout",
     "output_type": "stream",
     "text": [
      "Solving optimization problem ....\n",
      "Dual known\n",
      "Candidate solution found with 133 number of iterations.\n"
     ]
    }
   ],
   "source": [
    "x, x_h, f_val_hist, step_size, other_dict = solver.solve(problem)"
   ]
  },
  {
   "cell_type": "markdown",
   "metadata": {},
   "source": [
    "## 4. Plot"
   ]
  },
  {
   "cell_type": "code",
   "execution_count": 24,
   "metadata": {},
   "outputs": [],
   "source": [
    "def plot_2d(H, q, x, lb, ub, A_eq=None, b_eq=None, A_ineq=None, b_ineq=None):\n",
    "    \n",
    "    def objective_function_2d(x_1, x_2, H, q):\n",
    "        return 1 / 2 * (H[0, 0] * x_1 ** 2 + H[1, 1] * x_2 ** 2 + 2 * H[0, 1] * x_1 * x_2) + q[0] * x_1 + q[1] * x_2\n",
    "\n",
    "    x_1 = np.linspace(-0.1 + lb[0], ub[0] + 0.1, num=500).reshape((1, -1))    \n",
    "    x_2 = np.linspace(-0.1 + lb[1], ub[1] + 0.1, num=500).reshape((1, -1))\n",
    "    x_meshgrid_1, x_meshgrid_2 = np.meshgrid(x_1, x_2)\n",
    "    \n",
    "    objective = objective_function_2d(x_meshgrid_1, x_meshgrid_2, H, q)\n",
    "    \n",
    "    plt.figure(figsize=(10, 8))\n",
    "    plt.contourf(x_meshgrid_1, x_meshgrid_2, objective, 50, cmap='plasma')\n",
    "    plt.colorbar()\n",
    "    \n",
    "    if A_eq is not None and b_eq is not None:\n",
    "        t_eq = np.linspace(-0.1 + lb[0], ub[0] + 0.1, num=500)\n",
    "        plt.plot(t_eq, ((b_eq[0] - t_eq * A_eq[0, 0]) / A_eq[0, 1]), 'white')\n",
    "        \n",
    "    if A_ineq is not None and b_ineq is not None:\n",
    "        t_ineq = np.linspace(-0.1 + lb[0], ub[0] + 0.1, num=500)\n",
    "        ## 4. Plotplt.plot(t_ineq, ((b_ineq[0] - t_ineq * A_ineq[0, 0]) / A_ineq[0, 1]), 'yellow')\n",
    "        \n",
    "   \n",
    "    plt.plot(x[0, :], x[1, :], 'black')\n",
    "    plt.plot(x[0, 0], x[1, 0], 'bo', markersize=6, color='white')\n",
    "    plt.plot(x[0, - 1], x[1, - 1],\n",
    "             'x', markersize=10, color='white')\n",
    "    plt.xlabel('x1')\n",
    "    plt.ylabel('x2')\n",
    "    plt.xlim((lb[0] - 0.1, ub[0] + 0.1))\n",
    "    plt.ylim((lb[1] - 0.1, ub[1] + 0.1))\n",
    "    plt.show()"
   ]
  },
  {
   "cell_type": "code",
   "execution_count": 25,
   "metadata": {},
   "outputs": [
    {
     "data": {
      "image/png": "[encoded data removed]",
      "text/plain": [
       "<Figure size 720x576 with 2 Axes>"
      ]
     },
     "metadata": {
      "needs_background": "light"
     },
     "output_type": "display_data"
    }
   ],
   "source": [
    "plot_2d(H, q, x, lb, ub)"
   ]
  },
  {
   "cell_type": "markdown",
   "metadata": {},
   "source": [
    "# MIQP with constraints"
   ]
  },
  {
   "cell_type": "markdown",
   "metadata": {},
   "source": [
    "## 1. Create the solver"
   ]
  },
  {
   "cell_type": "code",
   "execution_count": 26,
   "metadata": {},
   "outputs": [],
   "source": [
    "solver = hmip.HopfieldSolver()"
   ]
  },
  {
   "cell_type": "markdown",
   "metadata": {},
   "source": [
    "## 2. Create the problem "
   ]
  },
  {
   "cell_type": "markdown",
   "metadata": {},
   "source": [
    "$$\\begin{array}{c}\n",
    "\\min_{x} {x^T H x + q^T x} \\\\\\\n",
    "\\text{st  } A_{eq} x = b_{eq} \\\\\\\n",
    "A_{ineq} x \\leq b_{ineq} \\\\\\\n",
    "x_i \\in \\{0, 1\\} \\text{ if } \\text{binary_vector}_i = 1 \\text{ otherwise } x_i \\in \\mathbb{R} \\\\\\\n",
    "lb \\leq x \\leq ub \\\\\\\n",
    "\\end{array}$$"
   ]
  },
  {
   "cell_type": "code",
   "execution_count": 27,
   "metadata": {},
   "outputs": [],
   "source": [
    "H = np.array([\n",
    "    [1, 1], \n",
    "    [1, 10]\n",
    "])\n",
    "q = np.array([1, 6])\n",
    "\n",
    "binary_indicator = np.array([1, 0])\n",
    "\n",
    "ub = np.array([1, 1])\n",
    "lb = np.array([0, 0])\n",
    "\n",
    "A_eq = np.array([[3, 1], [0, 0]])\n",
    "b_eq = np.array([0.3, 0])\n",
    "A_ineq = np.array([[3, 1], [0, 0]])\n",
    "b_ineq = np.array([0.3, 0])\n",
    "\n",
    "penalty_eq = 1000\n",
    "penalty_ineq = 10\n",
    "\n",
    "\n",
    "def objective_function(x):\n",
    "    return 1 / 2 * np.dot(np.dot(x.T, H), x) + np.dot(q.T, x)\n",
    "\n",
    "\n",
    "def gradient(x):\n",
    "    return np.dot(x, H) + q"
   ]
  },
  {
   "cell_type": "markdown",
   "metadata": {},
   "source": [
    "### Use of hmip.utils:"
   ]
  },
  {
   "cell_type": "code",
   "execution_count": 28,
   "metadata": {},
   "outputs": [],
   "source": [
    "H = hmip.utils.make_symmetric(H)\n",
    "smoothness_coefficient = hmip.utils.smoothness_coefficient(H)"
   ]
  },
  {
   "cell_type": "markdown",
   "metadata": {},
   "source": [
    "### Implement the problem in the solver"
   ]
  },
  {
   "cell_type": "code",
   "execution_count": 29,
   "metadata": {},
   "outputs": [
    {
     "name": "stdout",
     "output_type": "stream",
     "text": [
      "Set up optimization problem ....\n",
      ".... Optimization problem set up.\n"
     ]
    }
   ],
   "source": [
    "problem = solver.setup_optimization_problem(\n",
    "    objective_function, \n",
    "    gradient, \n",
    "    lb, \n",
    "    ub, \n",
    "    binary_indicator, \n",
    "    A_eq=A_eq,\n",
    "    b_eq=b_eq,  \n",
    "    A_ineq=A_ineq, \n",
    "    b_ineq=b_ineq,\n",
    "    smoothness_coef=smoothness_coefficient, \n",
    "    penalty_eq=penalty_eq,\n",
    "    penalty_ineq=penalty_ineq\n",
    ")"
   ]
  },
  {
   "cell_type": "markdown",
   "metadata": {},
   "source": [
    "## 3. Solve the problem"
   ]
  },
  {
   "cell_type": "code",
   "execution_count": 30,
   "metadata": {},
   "outputs": [
    {
     "name": "stdout",
     "output_type": "stream",
     "text": [
      "Solving optimization problem ....\n",
      "Computing the dual variable ....\n",
      "precision: 0.0009438532638509356\n",
      "precision dual: 3.33\n",
      "precision: 0.0009541468300227618\n",
      "precision dual: 2.9970000000000003\n",
      "precision: 0.0009448826204681571\n",
      "precision dual: 2.6973000000000003\n",
      "precision: 0.0009522205894545915\n",
      "precision dual: 2.4275700000000002\n",
      "precision: 0.0009440488416082027\n",
      "precision dual: 2.1848130000000006\n",
      "precision: 0.0009508024503735446\n",
      "precision dual: 1.9663317000000002\n",
      "precision: 0.0009447242024847591\n",
      "precision dual: 1.7696985300000003\n",
      "precision: 0.000945335358177468\n",
      "precision dual: 1.5927286770000006\n",
      "precision: 0.0009441771601747528\n",
      "precision dual: 1.4334558093000005\n",
      "precision: 0.0009486082028856702\n",
      "precision dual: 1.2901102283700003\n",
      "precision: 0.0009446202644458612\n",
      "precision dual: 1.1610992055330003\n",
      "precision: 0.0009431859002020825\n",
      "precision dual: 1.0449892849797005\n",
      "precision: 0.000944261349986264\n",
      "precision dual: 0.9404903564817302\n",
      "precision: 0.0009471685571089128\n",
      "precision dual: 0.8464413208335574\n",
      "precision: 0.0009445520706985455\n",
      "precision dual: 0.7617971887502016\n",
      "precision: 0.0009428265716501481\n",
      "precision dual: 0.6856174698751815\n",
      "precision: 0.000944316586921623\n",
      "precision dual: 0.6170557228876634\n",
      "precision: 0.0009462240055147508\n",
      "precision dual: 0.555350150598897\n",
      "precision: 0.0009445073287809302\n",
      "precision dual: 0.49981513553900736\n",
      "precision: 0.0009430669554823792\n",
      "precision dual: 0.4498336219851066\n",
      "precision: 0.0009443528278748614\n",
      "precision dual: 0.404850259786596\n",
      "precision: 0.0009456042852138413\n",
      "precision dual: 0.3643652338079364\n",
      "precision: 0.0009444779736087483\n",
      "precision dual: 0.3279287104271428\n",
      "precision: 0.0009434642931642201\n",
      "precision dual: 0.2951358393844285\n",
      "precision: 0.0009443766055642899\n",
      "precision dual: 0.26562225544598556\n",
      "precision: 0.0009451976867244083\n",
      "precision dual: 0.23906002990138708\n",
      "precision: 0.0009444587136803184\n",
      "precision dual: 0.2151540269112483\n",
      "precision: 0.0009451237894200215\n",
      "precision dual: 0.19363862422012357\n",
      "precision: 0.0009445252212542665\n",
      "precision dual: 0.1742747617981112\n",
      "precision: 0.0009439865099051259\n",
      "precision dual: 0.15684728561830008\n",
      "precision: 0.0009444713501193802\n",
      "precision dual: 0.14116255705647007\n",
      "precision: 0.0009440349939265902\n",
      "precision dual: 0.12704630135082307\n",
      "precision: 0.0009444277145000957\n",
      "precision dual: 0.11434167121574079\n",
      "precision: 0.0009447811630162728\n",
      "precision dual: 0.10290750409416671\n",
      "precision: 0.0009444630593516967\n",
      "precision dual: 0.09261675368475003\n",
      "precision: 0.0009441767660536282\n",
      "precision dual: 0.08335507831627503\n",
      "precision: 0.000944434430021901\n",
      "precision dual: 0.07501957048464752\n",
      "precision: 0.0009446663275933798\n",
      "precision dual: 0.06751761343618279\n",
      "precision: 0.0009444576197790711\n",
      "precision dual: 0.06076585209256452\n",
      "precision: 0.0009446454568119433\n",
      "precision dual: 0.05468926688330805\n",
      "precision: 0.0009444764034823305\n",
      "precision dual: 0.04922034019497723\n",
      "precision: 0.0009443242554856845\n",
      "precision dual: 0.04429830617547953\n",
      "precision: 0.0009444611886826881\n",
      "precision dual: 0.03986847555793155\n",
      "precision: 0.0009443379488053849\n",
      "precision dual: 0.0358816280021384\n",
      "precision: 0.0009444488646949689\n",
      "precision dual: 0.032293465201924554\n",
      "precision: 0.0009445486889955168\n",
      "precision dual: 0.029064118681732143\n",
      "precision: 0.0009444588471250182\n",
      "precision dual: 0.02615770681355889\n",
      "precision: 0.0009445397048084558\n",
      "precision dual: 0.023541936132203012\n",
      "precision: 0.0009444669328933508\n",
      "precision dual: 0.0211877425189827\n",
      "precision: 0.0009444014381697063\n",
      "precision dual: 0.01906896826708443\n",
      "precision: 0.0009444603834209975\n",
      "precision dual: 0.017162071440376014\n",
      "precision: 0.0009444073326948521\n",
      "precision dual: 0.015445864296338374\n",
      "precision: 0.000944455078348394\n",
      "precision dual: 0.013901277866704587\n",
      "precision: 0.0009444980494365263\n",
      "precision dual: 0.012511150080034117\n",
      "precision: 0.000944459375457174\n",
      "precision dual: 0.011260035072030716\n",
      "precision: 0.0009444245688757791\n",
      "precision dual: 0.010134031564827617\n",
      "precision: 0.0009444558947990234\n",
      "precision dual: 0.009120628408344877\n",
      "precision: 0.000944484088129971\n",
      "precision dual: 0.008208565567510373\n",
      "precision: 0.0009444587141321237\n",
      "precision dual: 0.007387709010759358\n",
      "precision: 0.0009444815507302362\n",
      "precision dual: 0.006648938109683422\n",
      "precision: 0.0009444609977919405\n",
      "precision dual: 0.005984044298715074\n",
      "precision: 0.0009444425001475243\n",
      "precision dual: 0.00538563986884355\n",
      "precision: 0.0009444591480274878\n",
      "precision dual: 0.004847075881959206\n",
      "precision: 0.0009444741311194771\n",
      "precision dual: 0.004362368293763297\n",
      "precision: 0.0009444606463366867\n",
      "precision dual: 0.003926131464386973\n",
      "precision: 0.0009444485100321698\n",
      "precision dual: 0.0035335183179482366\n",
      "precision: 0.0009444594327062683\n",
      "precision dual: 0.003180166486153435\n",
      "precision: 0.0009444496022996129\n",
      "precision dual: 0.002862149837538075\n",
      "precision: 0.0009444584496656194\n",
      "precision dual: 0.0025759348537842675\n",
      "precision: 0.0009444664122949531\n",
      "precision dual: 0.002318341368405863\n",
      "precision: 0.0009444592459285084\n",
      "precision dual: 0.002086507231565282\n",
      "precision: 0.0009444527961987026\n",
      "precision dual: 0.001877856508408715\n",
      "precision: 0.0009444586009555445\n",
      "precision dual: 0.0016900708575678935\n",
      "precision: 0.0009444638252367188\n",
      "precision dual: 0.0015210637718111042\n",
      "precision: 0.0009444591233836452\n",
      "precision dual: 0.0013689573946299993\n",
      "precision: 0.0009444633550513837\n",
      "precision dual: 0.0012320616551669827\n",
      ".... Dual variable computed.\n",
      "Candidate solution found with 499 number of iterations.\n"
     ]
    }
   ],
   "source": [
    "x, x_h, f_val_hist, step_size, other_dict = solver.solve(problem)"
   ]
  },
  {
   "cell_type": "markdown",
   "metadata": {},
   "source": [
    "## 4. Plot"
   ]
  },
  {
   "cell_type": "code",
   "execution_count": 31,
   "metadata": {},
   "outputs": [],
   "source": [
    "def plot_2d(H, q, x, lb, ub, A_eq=None, b_eq=None, A_ineq=None, b_ineq=None):\n",
    "    \n",
    "    def objective_function_2d(x_1, x_2, H, q):\n",
    "        return 1 / 2 * (H[0, 0] * x_1 ** 2 + H[1, 1] * x_2 ** 2 + 2 * H[0, 1] * x_1 * x_2) + q[0] * x_1 + q[1] * x_2\n",
    "\n",
    "    x_1 = np.linspace(-0.1 + lb[0], ub[0] + 0.1, num=500).reshape((1, -1))    \n",
    "    x_2 = np.linspace(-0.1 + lb[1], ub[1] + 0.1, num=500).reshape((1, -1))\n",
    "    x_meshgrid_1, x_meshgrid_2 = np.meshgrid(x_1, x_2)\n",
    "    \n",
    "    objective = objective_function_2d(x_meshgrid_1, x_meshgrid_2, H, q)\n",
    "    \n",
    "    plt.figure(figsize=(10, 8))\n",
    "    plt.contourf(x_meshgrid_1, x_meshgrid_2, objective, 50, cmap='plasma')\n",
    "    plt.colorbar()\n",
    "    \n",
    "    if A_eq is not None and b_eq is not None:\n",
    "        t_eq = np.linspace(-0.1 + lb[0], ub[0] + 0.1, num=500)\n",
    "        plt.plot(t_eq, ((b_eq[0] - t_eq * A_eq[0, 0]) / A_eq[0, 1]), 'white')\n",
    "        \n",
    "    if A_ineq is not None and b_ineq is not None:\n",
    "        t_ineq = np.linspace(-0.1 + lb[0], ub[0] + 0.1, num=500)\n",
    "        plt.plot(t_ineq, ((b_ineq[0] - t_ineq * A_ineq[0, 0]) / A_ineq[0, 1]), 'yellow')\n",
    "        \n",
    "    plt.plot(x[0, :], x[1, :], 'black')\n",
    "    plt.plot(x[0, 0], x[1, 0], 'bo', markersize=6, color='white')\n",
    "    plt.plot(x[0, - 1], x[1, - 1],\n",
    "             'x', markersize=10, color='white')\n",
    "    plt.xlabel('x1')\n",
    "    plt.ylabel('x2')\n",
    "    plt.xlim((lb[0] - 0.1, ub[0] + 0.1))\n",
    "    plt.ylim((lb[1] - 0.1, ub[1] + 0.1))\n",
    "    plt.show()"
   ]
  },
  {
   "cell_type": "code",
   "execution_count": 32,
   "metadata": {},
   "outputs": [
    {
     "data": {
      "image/png": "[encoded data removed]",
      "text/plain": [
       "<Figure size 720x576 with 2 Axes>"
      ]
     },
     "metadata": {
      "needs_background": "light"
     },
     "output_type": "display_data"
    }
   ],
   "source": [
    "plot_2d(H, q, x, lb, ub, A_eq=A_eq, b_eq=b_eq, A_ineq=A_ineq, b_ineq=b_ineq)"
   ]
  },
  {
   "cell_type": "markdown",
   "metadata": {},
   "source": [
    "### Another problem \n",
    "\n",
    "We just change the binary variable"
   ]
  },
  {
   "cell_type": "code",
   "execution_count": 35,
   "metadata": {},
   "outputs": [
    {
     "name": "stdout",
     "output_type": "stream",
     "text": [
      "Set up optimization problem ....\n",
      ".... Optimization problem set up.\n",
      "Solving optimization problem ....\n",
      "Computing the dual variable ....\n",
      "precision: 0.0006985516250930194\n",
      "precision dual: 3.33\n",
      "precision: 0.0007397927016007278\n",
      "precision dual: 2.9970000000000003\n",
      "precision: 0.0006988098347666689\n",
      "precision dual: 2.6973000000000003\n",
      "precision: 0.0007326878523342214\n",
      "precision dual: 2.4275700000000002\n",
      "precision: 0.0006996330457212764\n",
      "precision dual: 2.1848130000000006\n",
      "precision: 0.0007273934714139429\n",
      "precision dual: 1.9663317000000002\n",
      "precision: 0.0007007291585976494\n",
      "precision dual: 1.7696985300000003\n",
      "precision: 0.0006983690158144444\n",
      "precision dual: 1.5927286770000002\n",
      "precision: 0.0006998117935831451\n",
      "precision dual: 1.4334558093000005\n",
      "precision: 0.0007143645196359639\n",
      "precision dual: 1.2901102283700003\n",
      "precision: 0.0007005355210982849\n",
      "precision dual: 1.1610992055330003\n",
      "precision: 0.0006984797139621718\n",
      "precision dual: 1.0449892849797002\n",
      "precision: 0.0006999366000179321\n",
      "precision dual: 0.9404903564817302\n",
      "precision: 0.0007078732376427893\n",
      "precision dual: 0.8464413208335574\n",
      "precision: 0.000700413399747393\n",
      "precision dual: 0.7617971887502016\n",
      "precision: 0.0006985523430169378\n",
      "precision dual: 0.6856174698751815\n",
      "precision: 0.0007000217251030004\n",
      "precision dual: 0.6170557228876635\n",
      "precision: 0.000704527144708334\n",
      "precision dual: 0.555350150598897\n",
      "precision: 0.0007003353968246981\n",
      "precision dual: 0.49981513553900736\n",
      "precision: 0.0006987707385216717\n",
      "precision dual: 0.4498336219851067\n",
      "precision: 0.0006986216222106566\n",
      "precision dual: 0.40485025978659595\n",
      "precision: 0.0006987250347822198\n",
      "precision dual: 0.3643652338079364\n",
      "precision: 0.0006986294166660249\n",
      "precision dual: 0.32792871042714267\n",
      "precision: 0.0006987000038336669\n",
      "precision dual: 0.29513583938442856\n",
      "precision: 0.0006992111821109953\n",
      "precision dual: 0.2656222554459855\n",
      "precision: 0.000698719453134171\n",
      "precision dual: 0.23906002990138708\n",
      "precision: 0.0006986522084330392\n",
      "precision dual: 0.2151540269112483\n",
      "precision: 0.0006987031573981292\n",
      "precision dual: 0.19363862422012357\n",
      "precision: 0.0006989679505209234\n",
      "precision dual: 0.1742747617981113\n",
      "precision: 0.0006987160014760172\n",
      "precision dual: 0.15684728561830008\n",
      "precision: 0.0006989317148951569\n",
      "precision dual: 0.14116255705647007\n",
      "precision: 0.0006987286269063841\n",
      "precision dual: 0.12704630135082307\n",
      "precision: 0.0006986759193333311\n",
      "precision dual: 0.11434167121574068\n",
      "precision: 0.0006987182472957789\n",
      "precision dual: 0.10290750409416671\n",
      "precision: 0.0006986781207177566\n",
      "precision dual: 0.09261675368474998\n",
      "precision: 0.0006987107961769259\n",
      "precision dual: 0.08335507831627509\n",
      "precision: 0.0006987957618131709\n",
      "precision dual: 0.07501957048464747\n",
      "precision: 0.0006987167657149592\n",
      "precision dual: 0.06751761343618279\n",
      "precision: 0.0006986991783689498\n",
      "precision dual: 0.060765852092564465\n",
      "precision: 0.0006986874793095558\n",
      "precision dual: 0.05468926688330811\n",
      "precision: 0.0006986980084629919\n",
      "precision dual: 0.04922034019497734\n",
      "precision: 0.0006986885322248964\n",
      "precision dual: 0.044298306175479585\n",
      "precision: 0.0006986970608391874\n",
      "precision dual: 0.03986847555793149\n",
      "precision: 0.0006987080248745029\n",
      "precision dual: 0.035881628002138344\n",
      "precision: 0.0006986978284144804\n",
      "precision dual: 0.032293465201924665\n",
      "precision: 0.0006987065580544505\n",
      "precision dual: 0.0290641186817322\n",
      "precision: 0.0006986984501504478\n",
      "precision dual: 0.026157706813559\n",
      "precision: 0.0006986934140890015\n",
      "precision dual: 0.023541936132203123\n",
      "precision: 0.0006986979465443268\n",
      "precision dual: 0.02118774251898281\n",
      "precision: 0.0006986938673345459\n",
      "precision dual: 0.019068968267084374\n",
      "precision: 0.0006986975386233347\n",
      "precision dual: 0.01716207144037596\n",
      "precision: 0.0006987011197613643\n",
      "precision dual: 0.01544586429633843\n",
      "precision: 0.0006986978690393414\n",
      "precision dual: 0.013901277866704476\n",
      "precision: 0.0006986951926697818\n",
      "precision dual: 0.012511150080034117\n",
      "precision: 0.0006986976014023637\n",
      "precision dual: 0.01126003507203066\n",
      "precision: 0.0006986997986530888\n",
      "precision dual: 0.010134031564827728\n",
      "precision: 0.000698697818188313\n",
      "precision dual: 0.009120628408344933\n",
      "precision: 0.0006986995855920615\n",
      "precision dual: 0.008208565567510373\n",
      "precision: 0.0006986979937849211\n",
      "precision dual: 0.007387709010759247\n",
      "precision: 0.0006986965714524167\n",
      "precision dual: 0.006648938109683478\n",
      "precision: 0.0006986978515516588\n",
      "precision dual: 0.00598404429871513\n",
      "precision: 0.000698696699462333\n",
      "precision dual: 0.005385639868843661\n",
      "precision: 0.0006986977363427328\n",
      "precision dual: 0.004847075881959206\n",
      "precision: 0.0006986986695350956\n",
      "precision dual: 0.004362368293763241\n",
      "precision: 0.0006986978296619726\n",
      "precision dual: 0.003926131464387028\n",
      "precision: 0.00069869858554778\n",
      "precision dual: 0.0035335183179483476\n",
      "precision: 0.000698697905250543\n",
      "precision dual: 0.0031801664861534906\n",
      "precision: 0.0006986972929830534\n",
      "precision dual: 0.002862149837538075\n",
      "precision: 0.0006986978440237967\n",
      "precision dual: 0.0025759348537843785\n",
      "precision: 0.0006986983399604856\n",
      "precision dual: 0.0023183413684058074\n",
      "precision: 0.0006986978936174676\n",
      "precision dual: 0.0020865072315652267\n",
      "precision: 0.0006986974919087506\n",
      "precision dual: 0.0018778565084087706\n",
      "precision: 0.0006986978534465985\n",
      "precision dual: 0.0016900708575677825\n",
      "precision: 0.0006986975280625391\n",
      "precision dual: 0.0015210637718110487\n",
      "precision: 0.0006986978209081901\n",
      "precision dual: 0.0013689573946300548\n",
      "precision: 0.0006986980844692722\n",
      "precision dual: 0.0012320616551668717\n",
      ".... Dual variable computed.\n",
      "Candidate solution found with 499 number of iterations.\n"
     ]
    }
   ],
   "source": [
    "binary_indicator = np.array([0, 1])\n",
    "\n",
    "problem = solver.setup_optimization_problem(\n",
    "    objective_function, \n",
    "    gradient, \n",
    "    lb, \n",
    "    ub, \n",
    "    binary_indicator, \n",
    "    A_eq=A_eq,\n",
    "    b_eq=b_eq, \n",
    "    A_ineq=A_ineq, \n",
    "    b_ineq=b_ineq,\n",
    "    smoothness_coef=smoothness_coefficient, \n",
    "    penalty_eq=penalty_eq,\n",
    "    penalty_ineq=penalty_ineq\n",
    ")\n",
    "\n",
    "x, x_h, f_val_hist, step_size, other_dict = solver.solve(problem)"
   ]
  },
  {
   "cell_type": "code",
   "execution_count": 34,
   "metadata": {},
   "outputs": [
    {
     "data": {
      "image/png": "[encoded data removed]",
      "text/plain": [
       "<Figure size 720x576 with 2 Axes>"
      ]
     },
     "metadata": {
      "needs_background": "light"
     },
     "output_type": "display_data"
    }
   ],
   "source": [
    "plot_2d(H, q, x, lb, ub,A_eq=A_eq, b_eq=b_eq, A_ineq=A_ineq, b_ineq=b_ineq)"
   ]
  }
 ],
 "metadata": {
  "kernelspec": {
   "display_name": "Python 3",
   "language": "python",
   "name": "python3"
  },
  "language_info": {
   "codemirror_mode": {
    "name": "ipython",
    "version": 3
   },
   "file_extension": ".py",
   "mimetype": "text/x-python",
   "name": "python",
   "nbconvert_exporter": "python",
   "pygments_lexer": "ipython3",
   "version": "3.7.7"
  }
 },
 "nbformat": 4,
 "nbformat_minor": 2
}
