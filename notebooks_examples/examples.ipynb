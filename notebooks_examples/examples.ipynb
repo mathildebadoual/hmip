{
 "cells": [
  {
   "cell_type": "code",
   "execution_count": 5,
   "metadata": {},
   "outputs": [],
   "source": [
    "import matplotlib.pyplot as plt\n",
    "import numpy as np\n",
    "import hmip.hopfield as hopfield\n",
    "\n",
    "def objective_function(x_1, x_2, H, q):\n",
    "    \n",
    "    return 1 / 2 * (H[0,0]*x_1**2+H[1,1]*x_2**2+2*H[0,1]*x_1*x_2) + q[0]*x_1 + q[1]*x_2"
   ]
  },
  {
   "cell_type": "code",
   "execution_count": 47,
   "metadata": {},
   "outputs": [],
   "source": [
    "# TODO: delete plt.show()"
   ]
  },
  {
   "cell_type": "code",
   "execution_count": 6,
   "metadata": {},
   "outputs": [
    {
     "name": "stdout",
     "output_type": "stream",
     "text": [
      "Help on function hopfield in module hmip.hopfield:\n\nhopfield(H, q, lb, ub, binary_indicator, L, k_max=0, absorption_val=0.1, gamma=0, theta=0, initial_state=None, beta=None, absorption=False, step_type='classic', direction_type='classic', activation_type='pwl', initial_ascent_type='classic')\n    Solves the following optimization problem by computing the Hopfield method\n        min f(x) = 1/2 x^T * H * x + q^T * x\n            st lb <= x <= ub\n            x_i \\in {0, 1}^n if binary_indicator_i == 1\n    \n    :param H: (size(x), size(x)) matrix of the optimization problem\n    :param q: (size(x), 1) matrix of the optimization problem\n    :param lb: (size(x), 1) matrix of the optimization problem\n    :param ub: (size(x), 1) matrix of the optimization problem\n    :param binary_indicator: (size(x), 1) vector of value 1 if the corresponding x is in {0, 1} and 0 otherwise.\n    :param L:\n    :param k_max: (default = 0) integer\n    :param absorption: (default = False) boolean\n    :param absorption_val: (default = 1) float\n    :param gamma:\n    :param theta:\n    :param initial_state:\n    :param beta: (default = None) array of size x, if it is None, it will be ones(size(x))\n    :param step_type: (string)\n    :param direction_type: (string)\n    :param activation_type: (string)\n    :param initial_ascent_type (string)\n    \n    :return: x, x_h, f_val_hist, step_size\n    \n        x: (n, size(x)) vector of the optimal solution at each update\n        x_h: (n, size(x)) vector of the hidden variable at each update\n        f_val_hist: (n, 1) vector of the function f at each update\n        step_size: (n, 1) vector of the step size at each update\n\n"
     ]
    }
   ],
   "source": [
    "help(hopfield)"
   ]
  },
  {
   "cell_type": "markdown",
   "metadata": {},
   "source": [
    "### case 1 "
   ]
  },
  {
   "cell_type": "code",
   "execution_count": 7,
   "metadata": {},
   "outputs": [],
   "source": [
    "H = np.array([[2, 0], [0, 1]])\n",
    "q = np.array([-2.7, -1.8])\n",
    "k_max = 100\n",
    "binary_indicator = np.array([0, 1])\n",
    "beta = 4\n",
    "ub = np.array([1, 1])\n",
    "lb = np.array([0, 0])\n",
    "L = 1\n",
    "\n",
    "x, x_h, f_val_hist, step_size = hopfield(H, q, lb, ub, binary_indicator, L, k_max=k_max)"
   ]
  },
  {
   "cell_type": "code",
   "execution_count": 9,
   "metadata": {
    "collapsed": false
   },
   "outputs": [],
   "source": [
    "\n",
    "x_1 = np.linspace(0, 1, num=500)\n",
    "x_2 = np.linspace(0, 1, num=500)\n",
    "X_1, X_2 = np.meshgrid(x_1, x_2)\n",
    "Z = objective_function(X_1, X_2, H, q)\n",
    "\n",
    "plt.figure(figsize=(7, 5))\n",
    "plt.contourf(X_1, X_2, Z, 50, cmap='plasma')\n",
    "plt.plot(x[0, :], x[1, :],'black')\n",
    "plt.colorbar()\n",
    "plt.xlabel('x1')\n",
    "plt.ylabel('x2')\n",
    "plt.show()"
   ]
  },
  {
   "cell_type": "markdown",
   "metadata": {},
   "source": [
    "### Case 2"
   ]
  },
  {
   "cell_type": "code",
   "execution_count": 142,
   "metadata": {},
   "outputs": [],
   "source": [
    "H = np.array([[2, 1], [1, 2]])\n",
    "q = np.array([-2.7, -1.8])\n",
    "k_max = 100\n",
    "binary_indicator = np.array([0, 1])\n",
    "beta = 4\n",
    "ub = np.array([1, 1])\n",
    "lb = np.array([0, 0])\n",
    "L = 1\n",
    "\n",
    "x_armijo, x_h, f_val_hist, step_size = hopfield(H, q, lb, ub, binary_indicator, L, k_max=k_max, step_type='armijo')\n",
    "x_classic, x_h, f_val_hist, step_size = hopfield(H, q, lb, ub, binary_indicator, L, k_max=k_max, step_type='classic')"
   ]
  },
  {
   "cell_type": "code",
   "execution_count": 146,
   "metadata": {},
   "outputs": [],
   "source": [
    "x_1 = np.linspace(0, 1, num=500)\n",
    "x_2 = np.linspace(0, 1, num=500)\n",
    "X_1, X_2 = np.meshgrid(x_1, x_2)\n",
    "Z = objective_function(X_1, X_2, H, q)\n",
    "\n",
    "plt.figure(figsize=(7, 5))\n",
    "plt.contourf(X, Y, Z, 50, cmap='plasma')\n",
    "plt.plot(x_armijo[0, :], x_armijo[1, :],'black')\n",
    "plt.colorbar()\n",
    "plt.xlabel('x1')\n",
    "plt.ylabel('x2')\n",
    "plt.title('With Armijo step size')\n",
    "plt.show()\n",
    "\n",
    "plt.figure(figsize=(7, 5))\n",
    "plt.contourf(X, Y, Z, 50, cmap='plasma')\n",
    "plt.plot(x_classic[0, :], x_classic[1, :],'black')\n",
    "plt.colorbar()\n",
    "plt.xlabel('x1')\n",
    "plt.ylabel('x2')\n",
    "plt.title('With Classic step size')\n",
    "plt.show()"
   ]
  },
  {
   "cell_type": "markdown",
   "metadata": {},
   "source": [
    "### Case 3"
   ]
  },
  {
   "cell_type": "code",
   "execution_count": 147,
   "metadata": {},
   "outputs": [],
   "source": [
    "H = np.array([[2, 0], [0, 2]])\n",
    "q = np.array([-8, -1])\n",
    "k_max = 100\n",
    "binary_indicator = np.array([0, 1])\n",
    "beta = 4\n",
    "ub = np.array([1, 1])\n",
    "lb = np.array([0, 0])\n",
    "L = 1\n",
    "\n",
    "x, x_h, f_val_hist, step_size = hopfield(H, q, lb, ub, binary_indicator, L, k_max=k_max)"
   ]
  },
  {
   "cell_type": "code",
   "execution_count": 148,
   "metadata": {},
   "outputs": [],
   "source": [
    "x_1 = np.linspace(0, 1, num=500)\n",
    "x_2 = np.linspace(0, 1, num=500)\n",
    "X_1, X_2 = np.meshgrid(x_1, x_2)\n",
    "Z = objective_function(X_1, X_2, H, q)\n",
    "\n",
    "plt.figure(figsize=(7, 5))\n",
    "plt.contourf(X, Y, Z, 50, cmap='plasma')\n",
    "plt.plot(x[0, :], x[1, :],'black')\n",
    "plt.colorbar()\n",
    "plt.xlabel('x1')\n",
    "plt.ylabel('x2')\n",
    "plt.title('With Armijo step size')\n",
    "plt.show()"
   ]
  },
  {
   "cell_type": "code",
   "execution_count": 149,
   "metadata": {},
   "outputs": [],
   "source": [
    "H = np.array([[2, 0], [0, 1]])\n",
    "q = np.array([-2.7, -1.8])\n",
    "k_max = 100\n",
    "binary_indicator = np.array([0, 1])\n",
    "beta = 4\n",
    "ub = np.array([1, 1])\n",
    "lb = np.array([0, 0])\n",
    "L = 1\n",
    "\n",
    "x, x_h, f_val_hist, step_size = hopfield(H, q, lb, ub, binary_indicator, L, k_max=k_max, absorption=True, absorption_val=0.001)"
   ]
  },
  {
   "cell_type": "code",
   "execution_count": 151,
   "metadata": {},
   "outputs": [],
   "source": [
    "x_1 = np.linspace(0, 1, num=500)\n",
    "x_2 = np.linspace(0, 1, num=500)\n",
    "X_1, X_2 = np.meshgrid(x_1, x_2)\n",
    "Z = objective_function(X_1, X_2, H, q)\n",
    "\n",
    "plt.figure(figsize=(7, 5))\n",
    "plt.contourf(X, Y, Z, 50, cmap='plasma')\n",
    "plt.plot(x[0, :], x[1, :],'black')\n",
    "plt.colorbar()\n",
    "plt.xlabel('x1')\n",
    "plt.ylabel('x2')\n",
    "plt.title('With Armijo step size')\n",
    "plt.show()"
   ]
  },
  {
   "cell_type": "code",
   "execution_count": 43,
   "metadata": {},
   "outputs": [
    {
     "ename": "SyntaxError",
     "evalue": "invalid syntax (<ipython-input-43-cf1590f5a134>, line 18)",
     "traceback": [
      "\u001b[0;36m  File \u001b[0;32m\"<ipython-input-43-cf1590f5a134>\"\u001b[0;36m, line \u001b[0;32m18\u001b[0m\n\u001b[0;31m    for k in range(1, n)\u001b[0m\n\u001b[0m                        ^\u001b[0m\n\u001b[0;31mSyntaxError\u001b[0m\u001b[0;31m:\u001b[0m invalid syntax\n"
     ],
     "output_type": "error"
    }
   ],
   "source": [
    "n = 100\n",
    "\n",
    "H = np.array([[2, 0], [0, 1]])\n",
    "q = np.array([-2.7, -1.8])\n",
    "k_max = 500\n",
    "\n",
    "beta = 4\n",
    "ub = np.array([1, 1])\n",
    "lb = np.array([0, 0])\n",
    "L = 1\n",
    "gamma = 0.9\n",
    "theta = np.pi / 2 - 0.1\n",
    "absorption = False\n",
    "absorption_val = 0.01\n",
    "initial_state = 0.5 * np.ones(n)\n",
    "\n",
    "binary_indicator = np.zeros(n)\n",
    "for k in range(1, n)\n",
    "    if np.random.rand() > 0.5:\n",
    "        binary_indicator[k] = 1\n",
    "        \n",
    "        \n",
    "beta = np.ones(n)\n",
    "if strcmp(method.temperature.str,'auto')||strcmp(method.temperature.str,'semi auto')\n",
    "    for k=1:n\n",
    "        if p.binary_indicator(k)==1\n",
    "            if strcmp(method.temperature.str,'auto')\n",
    "                p.beta(k)=10;\n",
    "            elseif strcmp(method.temperature.str,'semi auto')\n",
    "                p.beta(k)=method.temperature.val;\n",
    "     |       end\n",
    "        end\n",
    "    end\n",
    "    \n",
    "end"
   ]
  },
  {
   "cell_type": "code",
   "execution_count": null,
   "metadata": {},
   "outputs": [],
   "source": []
  }
 ],
 "metadata": {
  "kernelspec": {
   "display_name": "Python 3",
   "language": "python",
   "name": "python3"
  },
  "language_info": {
   "codemirror_mode": {
    "name": "ipython",
    "version": 3
   },
   "file_extension": ".py",
   "mimetype": "text/x-python",
   "name": "python",
   "nbconvert_exporter": "python",
   "pygments_lexer": "ipython3",
   "version": "3.6.3"
  }
 },
 "nbformat": 4,
 "nbformat_minor": 2
}
