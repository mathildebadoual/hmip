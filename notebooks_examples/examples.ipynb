{
 "cells": [
  {
   "cell_type": "code",
   "execution_count": 1,
   "metadata": {},
   "outputs": [],
   "source": [
    "import matplotlib.pyplot as plt\n",
    "import numpy as np\n",
    "import hmip.hopfield as hop\n",
    "\n",
    "def objective_function(x_1, x_2, H, q):\n",
    "    \n",
    "    return 1 / 2 * (H[0,0]*x_1**2+H[1,1]*x_2**2+2*H[0,1]*x_1*x_2) + q[0]*x_1 + q[1]*x_2"
   ]
  },
  {
   "cell_type": "code",
   "execution_count": 47,
   "metadata": {},
   "outputs": [],
   "source": [
    "# TODO: delete plt.show()"
   ]
  },
  {
   "cell_type": "code",
   "execution_count": 12,
   "metadata": {},
   "outputs": [
    {
     "name": "stdout",
     "output_type": "stream",
     "text": [
      "Help on module hmip.hopfield in hmip:\n\nNAME\n    hmip.hopfield\n\nFUNCTIONS\n    absorb_solution_to_limits(x, ub, lb, absorption_val)\n    \n    activation(x, lb, ub, beta, activation_type)\n        :param x:\n        :param lb:\n        :param ub:\n        :param beta:\n        :param activation_type:\n        :return:\n    \n    alpha_hop(x, grad_f, direction, k, lb, ub, smoothness_coef, beta, direction_type, activation_type)\n    \n    compute_binary_absorption_mask(x, lb, ub, binary_indicator)\n        :param x:\n        :param lb:\n        :param ub:\n        :param binary_indicator:\n        :return:\n    \n    find_direction(x, grad_f, lb, ub, binary_indicator, beta, direction_type, absorption, gamma, theta, activation_type)\n        :param x:\n        :param grad_f:\n        :param lb:\n        :param ub:\n        :param binary_indicator:\n        :param direction_type:\n        :param absorption:\n        :param gamma:\n        :param theta:\n        :param beta:\n        :param activation_type:\n        :return:\n    \n    hopfield(H, q, lb, ub, binary_indicator, k_max=0, absorption=None, gamma=0, theta=0, x_0=None, beta=None, alpha=None, step_type='classic', direction_type='classic', activation_type='pwl', initial_ascent_type='classic')\n        Solves the following optimization problem by computing the Hopfield method\n            min f(x) = 1/2 x^T * H * x + q^T * x\n                st lb <= x <= ub\n                x_i \\in {lb_i, ub_i} if binary_indicator_i == 1\n        \n        :param H: (size(x), size(x)) matrix of the optimization problem\n        :param q: (size(x), 1) matrix of the optimization problem\n        :param lb: (size(x), 1) matrix of the optimization problem\n        :param ub: (size(x), 1) matrix of the optimization problem\n        :param binary_indicator: (size(x), 1) vector of value 1 if the corresponding x is in {0, 1} and 0 otherwise.\n        :param k_max: (default = 0) integer\n        :param absorption: (default = None) float\n        :param gamma:\n        :param theta:\n        :param x_0: initial state\n        :param beta: (default = None) array of size x, if it is None, it will be ones(size(x))\n        :param step_type: (string)\n        :param direction_type: (string)\n        :param activation_type: (string)\n        :param initial_ascent_type (string):\n                - 'no_ascent'               (takes default value at the center of the box [lb,ub] if no initial type is given)\n                - 'ascent'                  (classic gradient ascent with step size 1/L)\n                - 'binary_neutral_ascent'   (gradient ascent for non binary components, binary states are taken at the center)\n        \n        :return: x, x_h, f_val_hist, step_size\n        \n            x: (n, size(x)) vector of the optimal solution at each update\n            x_h: (n, size(x)) vector of the hidden variable at each update\n            f_val_hist: (n, 1) vector of the function f at each update\n            step_size: (n, 1) vector of the step size at each update\n    \n    hopfield_update(x_h, lb, ub, alpha, direction, beta, activation_type)\n        Compute the explicit discretization of HNN for one step.\n        \n        :param x_h:\n        :param lb:\n        :param ub:\n        :param alpha:\n        :param direction:\n        :param beta:\n        :param activation_type:\n        :return:\n    \n    initial_state(H, q, lb, ub, binary_indicator, k_max, smoothness_coef, x_0, initial_ascent_type)\n    \n    inverse_activation(x, lb, ub, beta, activation_type)\n        :param x:\n        :param lb:\n        :param ub:\n        :param beta:\n        :param activation_type:\n        :return:\n    \n    objective_function(x, H, q)\n        Compute the value of the objective function\n        \n            f(x) = 1/2 x^T * H * x + q^T * x\n        \n        :param x:\n        :param H:\n        :param q:\n        :return:\n    \n    proxy_distance_vector(x, lb, ub, beta, activation_type)\n        Compute the binary proxy distance sigma'(sigma^(-1)(x))\n        \n        :param x:\n        :param lb:\n        :param ub:\n        :param beta:\n        :param activation_type:\n        :return:\n    \n    smoothness_coefficient(H)\n        Compute the soothness coefficient with max(eig(H))\n        :param H: (np.array) matrix of size (n, n), quadratic term of the problem\n        :return: (np.float) scalar, smoothness coefficient\n\nDATA\n    DEFAULT_ACTIVATION_TYPE = 'pwl'\n    DEFAULT_DIRECTION_TYPE = 'classic'\n    DEFAULT_INITIAL_ASCENT_TYPE = 'classic'\n    DEFAULT_STEP_TYPE = 'classic'\n\nFILE\n    /Users/bertrandtravacca/Documents/code/hmip/hmip/hopfield.py\n\n\n"
     ]
    }
   ],
   "source": [
    "help(hop)"
   ]
  },
  {
   "cell_type": "markdown",
   "metadata": {},
   "source": [
    "### case 1 "
   ]
  },
  {
   "cell_type": "code",
   "execution_count": 2,
   "metadata": {},
   "outputs": [
    {
     "name": "stdout",
     "output_type": "stream",
     "text": [
      "None\n"
     ]
    }
   ],
   "source": [
    "H = np.array([[2, 0.1], [0, 1]])\n",
    "q = np.array([-2.7, -1.8])\n",
    "k_max = 100\n",
    "binary_indicator = np.array([0, 1])\n",
    "ub = np.array([1, 1])\n",
    "lb = np.array([0, 0])\n",
    "\n",
    "x, x_h, f_val_hist, step_size = hop.hopfield(H, q, lb, ub, binary_indicator, k_max=k_max)"
   ]
  },
  {
   "cell_type": "code",
   "execution_count": 3,
   "metadata": {
    "collapsed": false
   },
   "outputs": [],
   "source": [
    "\n",
    "x_1 = np.linspace(0, 1, num=500)\n",
    "x_2 = np.linspace(0, 1, num=500)\n",
    "X_1, X_2 = np.meshgrid(x_1, x_2)\n",
    "Z = objective_function(X_1, X_2, H, q)\n",
    "\n",
    "plt.figure(figsize=(7, 5))\n",
    "plt.contourf(X_1, X_2, Z, 50, cmap='plasma')\n",
    "plt.plot(x[0, :], x[1, :],'black')\n",
    "plt.colorbar()\n",
    "plt.xlabel('x1')\n",
    "plt.ylabel('x2')\n",
    "plt.show()\n"
   ]
  },
  {
   "cell_type": "markdown",
   "metadata": {},
   "source": [
    "### Case 2"
   ]
  },
  {
   "cell_type": "code",
   "execution_count": 142,
   "metadata": {},
   "outputs": [],
   "source": [
    "H = np.array([[2, 1], [1, 2]])\n",
    "q = np.array([-2.7, -1.8])\n",
    "k_max = 100\n",
    "binary_indicator = np.array([0, 1])\n",
    "beta = 4\n",
    "ub = np.array([1, 1])\n",
    "lb = np.array([0, 0])\n",
    "L = 1\n",
    "\n",
    "x_armijo, x_h, f_val_hist, step_size = hopfield(H, q, lb, ub, binary_indicator, L, k_max=k_max, step_type='armijo')\n",
    "x_classic, x_h, f_val_hist, step_size = hopfield(H, q, lb, ub, binary_indicator, L, k_max=k_max, step_type='classic')"
   ]
  },
  {
   "cell_type": "code",
   "execution_count": 146,
   "metadata": {},
   "outputs": [],
   "source": [
    "x_1 = np.linspace(0, 1, num=500)\n",
    "x_2 = np.linspace(0, 1, num=500)\n",
    "X_1, X_2 = np.meshgrid(x_1, x_2)\n",
    "Z = objective_function(X_1, X_2, H, q)\n",
    "\n",
    "plt.figure(figsize=(7, 5))\n",
    "plt.contourf(X, Y, Z, 50, cmap='plasma')\n",
    "plt.plot(x_armijo[0, :], x_armijo[1, :],'black')\n",
    "plt.colorbar()\n",
    "plt.xlabel('x1')\n",
    "plt.ylabel('x2')\n",
    "plt.title('With Armijo step size')\n",
    "plt.show()\n",
    "\n",
    "plt.figure(figsize=(7, 5))\n",
    "plt.contourf(X, Y, Z, 50, cmap='plasma')\n",
    "plt.plot(x_classic[0, :], x_classic[1, :],'black')\n",
    "plt.colorbar()\n",
    "plt.xlabel('x1')\n",
    "plt.ylabel('x2')\n",
    "plt.title('With Classic step size')\n",
    "plt.show()"
   ]
  },
  {
   "cell_type": "markdown",
   "metadata": {},
   "source": [
    "### Case 3"
   ]
  },
  {
   "cell_type": "code",
   "execution_count": 147,
   "metadata": {},
   "outputs": [],
   "source": [
    "H = np.array([[2, 0], [0, 2]])\n",
    "q = np.array([-8, -1])\n",
    "k_max = 100\n",
    "binary_indicator = np.array([0, 1])\n",
    "beta = 4\n",
    "ub = np.array([1, 1])\n",
    "lb = np.array([0, 0])\n",
    "L = 1\n",
    "\n",
    "x, x_h, f_val_hist, step_size = hopfield(H, q, lb, ub, binary_indicator, L, k_max=k_max)"
   ]
  },
  {
   "cell_type": "code",
   "execution_count": 148,
   "metadata": {},
   "outputs": [],
   "source": [
    "x_1 = np.linspace(0, 1, num=500)\n",
    "x_2 = np.linspace(0, 1, num=500)\n",
    "X_1, X_2 = np.meshgrid(x_1, x_2)\n",
    "Z = objective_function(X_1, X_2, H, q)\n",
    "\n",
    "plt.figure(figsize=(7, 5))\n",
    "plt.contourf(X, Y, Z, 50, cmap='plasma')\n",
    "plt.plot(x[0, :], x[1, :],'black')\n",
    "plt.colorbar()\n",
    "plt.xlabel('x1')\n",
    "plt.ylabel('x2')\n",
    "plt.title('With Armijo step size')\n",
    "plt.show()"
   ]
  },
  {
   "cell_type": "code",
   "execution_count": 149,
   "metadata": {},
   "outputs": [],
   "source": [
    "H = np.array([[2, 0], [0, 1]])\n",
    "q = np.array([-2.7, -1.8])\n",
    "k_max = 100\n",
    "binary_indicator = np.array([0, 1])\n",
    "beta = 4\n",
    "ub = np.array([1, 1])\n",
    "lb = np.array([0, 0])\n",
    "L = 1\n",
    "\n",
    "x, x_h, f_val_hist, step_size = hopfield(H, q, lb, ub, binary_indicator, L, k_max=k_max, absorption=True, absorption_val=0.001)"
   ]
  },
  {
   "cell_type": "code",
   "execution_count": 151,
   "metadata": {},
   "outputs": [],
   "source": [
    "x_1 = np.linspace(0, 1, num=500)\n",
    "x_2 = np.linspace(0, 1, num=500)\n",
    "X_1, X_2 = np.meshgrid(x_1, x_2)\n",
    "Z = objective_function(X_1, X_2, H, q)\n",
    "\n",
    "plt.figure(figsize=(7, 5))\n",
    "plt.contourf(X, Y, Z, 50, cmap='plasma')\n",
    "plt.plot(x[0, :], x[1, :],'black')\n",
    "plt.colorbar()\n",
    "plt.xlabel('x1')\n",
    "plt.ylabel('x2')\n",
    "plt.title('With Armijo step size')\n",
    "plt.show()"
   ]
  },
  {
   "cell_type": "code",
   "execution_count": 43,
   "metadata": {},
   "outputs": [
    {
     "ename": "SyntaxError",
     "evalue": "invalid syntax (<ipython-input-43-cf1590f5a134>, line 18)",
     "traceback": [
      "\u001b[0;36m  File \u001b[0;32m\"<ipython-input-43-cf1590f5a134>\"\u001b[0;36m, line \u001b[0;32m18\u001b[0m\n\u001b[0;31m    for k in range(1, n)\u001b[0m\n\u001b[0m                        ^\u001b[0m\n\u001b[0;31mSyntaxError\u001b[0m\u001b[0;31m:\u001b[0m invalid syntax\n"
     ],
     "output_type": "error"
    }
   ],
   "source": [
    "n = 100\n",
    "\n",
    "H = np.array([[2, 0], [0, 1]])\n",
    "q = np.array([-2.7, -1.8])\n",
    "k_max = 500\n",
    "\n",
    "beta = 4\n",
    "ub = np.array([1, 1])\n",
    "lb = np.array([0, 0])\n",
    "L = 1\n",
    "gamma = 0.9\n",
    "theta = np.pi / 2 - 0.1\n",
    "absorption = False\n",
    "absorption_val = 0.01\n",
    "initial_state = 0.5 * np.ones(n)\n",
    "\n",
    "binary_indicator = np.zeros(n)\n",
    "for k in range(1, n)\n",
    "    if np.random.rand() > 0.5:\n",
    "        binary_indicator[k] = 1\n",
    "        \n",
    "        \n",
    "beta = np.ones(n)\n",
    "if strcmp(method.temperature.str,'auto')||strcmp(method.temperature.str,'semi auto')\n",
    "    for k=1:n\n",
    "        if p.binary_indicator(k)==1\n",
    "            if strcmp(method.temperature.str,'auto')\n",
    "                p.beta(k)=10;\n",
    "            elseif strcmp(method.temperature.str,'semi auto')\n",
    "                p.beta(k)=method.temperature.val;\n",
    "     |       end\n",
    "        end\n",
    "    end\n",
    "    \n",
    "end"
   ]
  },
  {
   "cell_type": "code",
   "execution_count": null,
   "metadata": {},
   "outputs": [],
   "source": []
  }
 ],
 "metadata": {
  "kernelspec": {
   "display_name": "Python 3",
   "language": "python",
   "name": "python3"
  },
  "language_info": {
   "codemirror_mode": {
    "name": "ipython",
    "version": 3
   },
   "file_extension": ".py",
   "mimetype": "text/x-python",
   "name": "python",
   "nbconvert_exporter": "python",
   "pygments_lexer": "ipython3",
   "version": "3.6.3"
  }
 },
 "nbformat": 4,
 "nbformat_minor": 2
}
